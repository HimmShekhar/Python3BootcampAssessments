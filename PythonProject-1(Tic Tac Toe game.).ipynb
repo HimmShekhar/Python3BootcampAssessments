{
 "cells": [
  {
   "cell_type": "code",
   "execution_count": 1,
   "id": "d275ba1b",
   "metadata": {},
   "outputs": [],
   "source": [
    "#Step 1: Write a function that can print out a board. Set up your board as a list, where each index 1-9 corresponds with a number on a number pad, so you get a 3 by 3 board representation.\n",
    "\n",
    "#Display Board\n",
    "\n",
    "from IPython.display import clear_output\n",
    "\n",
    "def display_board(board_list):\n",
    "    \n",
    "    clear_output()\n",
    "    print(board_list[7]+'|'+board_list[8]+'|'+board_list[9])\n",
    "    print('-|-|-')\n",
    "    print(board_list[4]+'|'+board_list[5]+'|'+board_list[6])\n",
    "    print('-|-|-')\n",
    "    print(board_list[1]+'|'+board_list[2]+'|'+board_list[3])"
   ]
  },
  {
   "cell_type": "code",
   "execution_count": 2,
   "id": "ef86997a",
   "metadata": {},
   "outputs": [],
   "source": [
    "#Step 2: Write a function that can take in a player input and assign their marker as 'X' or 'O'. Think about using while loops to continually ask until you get a correct answer\n",
    "\n",
    "def player_input():\n",
    "    \n",
    "    player1_marker=''\n",
    "    \n",
    "    while not (player1_marker == 'X' or player1_marker == 'O'):\n",
    "        player1_marker = input('Choose X or O :')\n",
    "    \n",
    "    if player1_marker == 'X':\n",
    "        player2_marker ='O'\n",
    "    else:\n",
    "        player2_marker ='X'\n",
    "    \n",
    "    return (player1_marker,player2_marker)\n",
    "    "
   ]
  },
  {
   "cell_type": "code",
   "execution_count": 3,
   "id": "98481b9d",
   "metadata": {},
   "outputs": [],
   "source": [
    "#Step 3: Write a function that takes in the board list object, a marker ('X' or 'O'), and a desired position (number 1-9) and assigns it to the board.\n",
    "\n",
    "def place_marker(board, marker, position):\n",
    "    \n",
    "    board[int(position)] = marker\n",
    "    display_board(board)\n",
    "\n",
    "\n"
   ]
  },
  {
   "cell_type": "code",
   "execution_count": 4,
   "id": "92457588",
   "metadata": {},
   "outputs": [],
   "source": [
    "#Step 4: Write a function that takes in a board and a mark (X or O) and then checks to see if that mark has won. *\n",
    "\n",
    "\n",
    "def win_check(board, mark):\n",
    "    \n",
    "    \n",
    "    if (board[1]==board[2]==board[3]==mark) or (board[4]==board[5]==board[6]==mark) or (board[7]==board[8]==board[9]==mark) or (board[3]==board[6]==board[9]==mark) or (board[2]==board[5]==board[8]==mark) or (board[1]==board[4]==board[7]==mark) or (board[7]==board[5]==board[3]==mark) or (board[1]==board[5]==board[9]==mark):\n",
    "        return True\n",
    "    else:\n",
    "        return False\n",
    "    \n",
    "    \n"
   ]
  },
  {
   "cell_type": "code",
   "execution_count": 5,
   "id": "c3738902",
   "metadata": {},
   "outputs": [],
   "source": [
    "#Step 5: Write a function that uses the random module to randomly decide which player goes first. You may want to lookup random.randint() Return a string of which player went first.\n",
    "\n",
    "import random\n",
    "\n",
    "def choose_first():\n",
    "    playerToStart=random.randint(1, 2)\n",
    "    \n",
    "    if playerToStart==1:\n",
    "        return 'P1'\n",
    "    else:\n",
    "        return 'P2'"
   ]
  },
  {
   "cell_type": "code",
   "execution_count": 6,
   "id": "89cd23b4",
   "metadata": {},
   "outputs": [],
   "source": [
    "#Step 6: Write a function that returns a boolean indicating whether a space on the board is freely available.\n",
    "\n",
    "def space_check(board, position):\n",
    "    \n",
    "    return board[position]==' '"
   ]
  },
  {
   "cell_type": "code",
   "execution_count": 7,
   "id": "3ae17ab2",
   "metadata": {},
   "outputs": [],
   "source": [
    "#Step 7: Write a function that checks if the board is full and returns a boolean value. True if full, False otherwise.\n",
    "\n",
    "def full_board_check(board):\n",
    "    \n",
    "    for i in range(1,10):\n",
    "        if space_check(board, i):\n",
    "            return False\n",
    "    return True\n",
    "    "
   ]
  },
  {
   "cell_type": "code",
   "execution_count": 8,
   "id": "41bad7da",
   "metadata": {},
   "outputs": [],
   "source": [
    "#Step 8: Write a function that asks for a player's next position (as a number 1-9) and then uses the function from step 6 to check if it's a free position. If it is, then return the position for later use.\n",
    "\n",
    "def player_choice(board):\n",
    "     \n",
    "    playerNextPositon=0\n",
    "    \n",
    "    while playerNextPositon not in range(1,10) or not space_check(board, playerNextPositon):\n",
    "        \n",
    "        playerNextPositon = int(input('Enter your next position : '))\n",
    "    \n",
    "    return playerNextPositon"
   ]
  },
  {
   "cell_type": "code",
   "execution_count": 9,
   "id": "4db8fca4",
   "metadata": {},
   "outputs": [],
   "source": [
    "#Step 9: Write a function that asks the player if they want to play again and returns a boolean True if they do want to play again.\n",
    "\n",
    "def replay():\n",
    "    \n",
    "    return input('Do you want to play again? Enter Yes or No: ').lower().startswith('y')\n",
    "    "
   ]
  },
  {
   "cell_type": "code",
   "execution_count": null,
   "id": "b4ea2b44",
   "metadata": {},
   "outputs": [
    {
     "name": "stdout",
     "output_type": "stream",
     "text": [
      "O|X|O\n",
      "-|-|-\n",
      "O|X|O\n",
      "-|-|-\n",
      "X|O|X\n",
      "The game is a draw!\n"
     ]
    }
   ],
   "source": [
    "print('Welcome to Tic Tac Toe!')\n",
    "\n",
    "\n",
    "\n",
    "while True:\n",
    "    # Set the game up here\n",
    "    board=[' ']*10\n",
    "\n",
    "    player1 , player2 = player_input()\n",
    "        \n",
    "    print('Player 1 is '+player1)\n",
    "    print('Player 2 is '+player2)\n",
    "    \n",
    "    turn = choose_first()\n",
    "    \n",
    "    if turn == 'P1':\n",
    "        print('Player 1 Starts.')\n",
    "    else:\n",
    "        print('Player 2 Starts.')\n",
    "        \n",
    "    play_game = input('Are you ready to play? Enter Yes or No.')\n",
    "    \n",
    "    if play_game.lower()[0] == 'y':\n",
    "        game_on = True\n",
    "    else:\n",
    "        game_on = False\n",
    "    \n",
    "\n",
    "    while game_on:\n",
    "        \n",
    "        if turn == 'P1':\n",
    "            \n",
    "            display_board(board)\n",
    "            print('Player 1 move.')\n",
    "            #Player 1 Turn\n",
    "            position1 = player_choice(board)\n",
    "            \n",
    "            place_marker(board, player1, position1)\n",
    "            \n",
    "            \n",
    "            if win_check(board, player1):\n",
    "                display_board(board)\n",
    "                print('Congratulations! You have won the game!')\n",
    "                game_on = False\n",
    "            else:\n",
    "                if full_board_check(board):\n",
    "                    display_board(board)\n",
    "                    print('The game is a draw!')\n",
    "                    break\n",
    "                else:\n",
    "                    turn = 'P2'\n",
    "    \n",
    "        else:\n",
    "            # Player2's turn.\n",
    "            display_board(board)\n",
    "            print('Player 2 move.')\n",
    "            #Player 1 Turn\n",
    "            position2= player_choice(board)\n",
    "                \n",
    "            place_marker(board, player2, position2)\n",
    "            \n",
    "            \n",
    "            if win_check(board, player2):\n",
    "                display_board(board)\n",
    "                print('Congratulations! You have won the game!')\n",
    "                game_on = False\n",
    "            else:\n",
    "                if full_board_check(board):\n",
    "                    display_board(board)\n",
    "                    print('The game is a draw!')\n",
    "                    break\n",
    "                else:\n",
    "                    turn = 'P1'\n",
    "\n",
    "        \n",
    "    if not replay():\n",
    "        break\n"
   ]
  },
  {
   "cell_type": "code",
   "execution_count": null,
   "id": "355b6358",
   "metadata": {},
   "outputs": [],
   "source": []
  },
  {
   "cell_type": "markdown",
   "id": "d43f0ece",
   "metadata": {},
   "source": []
  }
 ],
 "metadata": {
  "kernelspec": {
   "display_name": "Python 3",
   "language": "python",
   "name": "python3"
  },
  "language_info": {
   "codemirror_mode": {
    "name": "ipython",
    "version": 3
   },
   "file_extension": ".py",
   "mimetype": "text/x-python",
   "name": "python",
   "nbconvert_exporter": "python",
   "pygments_lexer": "ipython3",
   "version": "3.8.8"
  }
 },
 "nbformat": 4,
 "nbformat_minor": 5
}
